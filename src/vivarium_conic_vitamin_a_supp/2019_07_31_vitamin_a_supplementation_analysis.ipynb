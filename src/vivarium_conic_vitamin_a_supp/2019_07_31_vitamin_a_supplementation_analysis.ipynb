{
 "cells": [
  {
   "cell_type": "code",
   "execution_count": 1,
   "metadata": {
    "scrolled": true
   },
   "outputs": [
    {
     "name": "stdout",
     "output_type": "stream",
     "text": [
      "Thu Aug  1 13:10:29 PDT 2019\n",
      "The autoreload extension is already loaded. To reload it, use:\n",
      "  %reload_ext autoreload\n"
     ]
    }
   ],
   "source": [
    "import numpy as np, pandas as pd, matplotlib.pyplot as plt\n",
    "pd.set_option('display.max_rows', 12)\n",
    "!date\n",
    "\n",
    "%reload_ext autoreload\n",
    "%load_ext autoreload\n",
    "%autoreload 2"
   ]
  },
  {
   "cell_type": "markdown",
   "metadata": {},
   "source": [
    "# Inspect results of Vitamin A distributed run\n",
    "### Run 1 - Burkina Faso: Baseline Coverage = 0.88, Intrevention Coverage = 0.94"
   ]
  },
  {
   "cell_type": "code",
   "execution_count": 60,
   "metadata": {
    "scrolled": true
   },
   "outputs": [
    {
     "name": "stdout",
     "output_type": "stream",
     "text": [
      "/share/costeffectiveness/results/burkina_faso/2019_07_31_22_03_38/output.hdf\n"
     ]
    }
   ],
   "source": [
    "# input_draw_count = 100 and population_size = 10_000\n",
    "proj = 'burkina_faso'\n",
    "time = '2019_07_31_22_03_38'\n",
    "\n",
    "fname = f'/share/costeffectiveness/results/{proj}/{time}/output.hdf'\n",
    "print(fname)"
   ]
  },
  {
   "cell_type": "code",
   "execution_count": 105,
   "metadata": {
    "scrolled": true
   },
   "outputs": [
    {
     "data": {
      "text/plain": [
       "(100, 161)"
      ]
     },
     "execution_count": 105,
     "metadata": {},
     "output_type": "execute_result"
    }
   ],
   "source": [
    "df = pd.read_hdf(fname)\n",
    "df = df.query('target_coverage == 0.92')\n",
    "df.shape"
   ]
  },
  {
   "cell_type": "code",
   "execution_count": 106,
   "metadata": {},
   "outputs": [
    {
     "data": {
      "text/plain": [
       "array([0.92])"
      ]
     },
     "execution_count": 106,
     "metadata": {},
     "output_type": "execute_result"
    }
   ],
   "source": [
    "df.target_coverage.unique()"
   ]
  },
  {
   "cell_type": "code",
   "execution_count": 62,
   "metadata": {
    "scrolled": true
   },
   "outputs": [
    {
     "data": {
      "text/plain": [
       "['total_population_untracked',\n",
       " 'total_population_tracked',\n",
       " 'total_population',\n",
       " 'death_due_to_measles_in_2017',\n",
       " 'death_due_to_diarrheal_diseases_in_2017',\n",
       " 'death_due_to_lower_respiratory_infections_in_2017',\n",
       " 'death_due_to_other_causes_in_2017',\n",
       " 'death_due_to_measles_in_2018',\n",
       " 'death_due_to_diarrheal_diseases_in_2018',\n",
       " 'death_due_to_lower_respiratory_infections_in_2018',\n",
       " 'death_due_to_other_causes_in_2018',\n",
       " 'death_due_to_measles_in_2019',\n",
       " 'death_due_to_diarrheal_diseases_in_2019',\n",
       " 'death_due_to_lower_respiratory_infections_in_2019',\n",
       " 'death_due_to_other_causes_in_2019',\n",
       " 'death_due_to_measles_in_2020',\n",
       " 'death_due_to_diarrheal_diseases_in_2020',\n",
       " 'death_due_to_lower_respiratory_infections_in_2020',\n",
       " 'death_due_to_other_causes_in_2020',\n",
       " 'death_due_to_measles_in_2021',\n",
       " 'death_due_to_diarrheal_diseases_in_2021',\n",
       " 'death_due_to_lower_respiratory_infections_in_2021',\n",
       " 'death_due_to_other_causes_in_2021',\n",
       " 'death_due_to_measles_in_2022',\n",
       " 'death_due_to_diarrheal_diseases_in_2022',\n",
       " 'death_due_to_lower_respiratory_infections_in_2022',\n",
       " 'death_due_to_other_causes_in_2022',\n",
       " 'death_due_to_measles_in_2023',\n",
       " 'death_due_to_diarrheal_diseases_in_2023',\n",
       " 'death_due_to_lower_respiratory_infections_in_2023',\n",
       " 'death_due_to_other_causes_in_2023',\n",
       " 'death_due_to_measles_in_2024',\n",
       " 'death_due_to_diarrheal_diseases_in_2024',\n",
       " 'death_due_to_lower_respiratory_infections_in_2024',\n",
       " 'death_due_to_other_causes_in_2024',\n",
       " 'ylls_due_to_measles_in_2024',\n",
       " 'total_population_living',\n",
       " 'total_population_dead',\n",
       " 'vitamin_a_deficiency_cat1_exposed_in_2017_among_early_neonatal',\n",
       " 'vitamin_a_deficiency_cat2_exposed_in_2017_among_early_neonatal',\n",
       " 'vitamin_a_deficiency_cat1_exposed_in_2018_among_early_neonatal',\n",
       " 'vitamin_a_deficiency_cat2_exposed_in_2018_among_early_neonatal',\n",
       " 'vitamin_a_deficiency_cat1_exposed_in_2019_among_early_neonatal',\n",
       " 'vitamin_a_deficiency_cat2_exposed_in_2019_among_early_neonatal',\n",
       " 'vitamin_a_deficiency_cat1_exposed_in_2020_among_early_neonatal',\n",
       " 'vitamin_a_deficiency_cat2_exposed_in_2020_among_early_neonatal',\n",
       " 'vitamin_a_deficiency_cat1_exposed_in_2021_among_early_neonatal',\n",
       " 'vitamin_a_deficiency_cat2_exposed_in_2021_among_early_neonatal',\n",
       " 'vitamin_a_deficiency_cat1_exposed_in_2022_among_early_neonatal',\n",
       " 'vitamin_a_deficiency_cat2_exposed_in_2022_among_early_neonatal',\n",
       " 'vitamin_a_deficiency_cat1_exposed_in_2023_among_early_neonatal',\n",
       " 'vitamin_a_deficiency_cat2_exposed_in_2023_among_early_neonatal',\n",
       " 'vitamin_a_deficiency_cat1_exposed_in_2017_among_late_neonatal',\n",
       " 'vitamin_a_deficiency_cat2_exposed_in_2017_among_late_neonatal',\n",
       " 'vitamin_a_deficiency_cat1_exposed_in_2018_among_late_neonatal',\n",
       " 'vitamin_a_deficiency_cat2_exposed_in_2018_among_late_neonatal',\n",
       " 'vitamin_a_deficiency_cat1_exposed_in_2019_among_late_neonatal',\n",
       " 'vitamin_a_deficiency_cat2_exposed_in_2019_among_late_neonatal',\n",
       " 'vitamin_a_deficiency_cat1_exposed_in_2020_among_late_neonatal',\n",
       " 'vitamin_a_deficiency_cat2_exposed_in_2020_among_late_neonatal',\n",
       " 'vitamin_a_deficiency_cat1_exposed_in_2021_among_late_neonatal',\n",
       " 'vitamin_a_deficiency_cat2_exposed_in_2021_among_late_neonatal',\n",
       " 'vitamin_a_deficiency_cat1_exposed_in_2022_among_late_neonatal',\n",
       " 'vitamin_a_deficiency_cat2_exposed_in_2022_among_late_neonatal',\n",
       " 'vitamin_a_deficiency_cat1_exposed_in_2023_among_late_neonatal',\n",
       " 'vitamin_a_deficiency_cat2_exposed_in_2023_among_late_neonatal',\n",
       " 'vitamin_a_deficiency_cat1_exposed_in_2017_among_post_neonatal',\n",
       " 'vitamin_a_deficiency_cat2_exposed_in_2017_among_post_neonatal',\n",
       " 'vitamin_a_deficiency_cat1_exposed_in_2018_among_post_neonatal',\n",
       " 'vitamin_a_deficiency_cat2_exposed_in_2018_among_post_neonatal',\n",
       " 'vitamin_a_deficiency_cat1_exposed_in_2019_among_post_neonatal',\n",
       " 'vitamin_a_deficiency_cat2_exposed_in_2019_among_post_neonatal',\n",
       " 'vitamin_a_deficiency_cat1_exposed_in_2020_among_post_neonatal',\n",
       " 'vitamin_a_deficiency_cat2_exposed_in_2020_among_post_neonatal',\n",
       " 'vitamin_a_deficiency_cat1_exposed_in_2021_among_post_neonatal',\n",
       " 'vitamin_a_deficiency_cat2_exposed_in_2021_among_post_neonatal',\n",
       " 'vitamin_a_deficiency_cat1_exposed_in_2022_among_post_neonatal',\n",
       " 'vitamin_a_deficiency_cat2_exposed_in_2022_among_post_neonatal',\n",
       " 'vitamin_a_deficiency_cat1_exposed_in_2023_among_post_neonatal',\n",
       " 'vitamin_a_deficiency_cat2_exposed_in_2023_among_post_neonatal',\n",
       " 'vitamin_a_deficiency_cat1_exposed_in_2017_among_1_to_4',\n",
       " 'vitamin_a_deficiency_cat2_exposed_in_2017_among_1_to_4',\n",
       " 'vitamin_a_deficiency_cat1_exposed_in_2018_among_1_to_4',\n",
       " 'vitamin_a_deficiency_cat2_exposed_in_2018_among_1_to_4',\n",
       " 'vitamin_a_deficiency_cat1_exposed_in_2019_among_1_to_4',\n",
       " 'vitamin_a_deficiency_cat2_exposed_in_2019_among_1_to_4',\n",
       " 'vitamin_a_deficiency_cat1_exposed_in_2020_among_1_to_4',\n",
       " 'vitamin_a_deficiency_cat2_exposed_in_2020_among_1_to_4',\n",
       " 'vitamin_a_deficiency_cat1_exposed_in_2021_among_1_to_4',\n",
       " 'vitamin_a_deficiency_cat2_exposed_in_2021_among_1_to_4',\n",
       " 'vitamin_a_deficiency_cat1_exposed_in_2022_among_1_to_4',\n",
       " 'vitamin_a_deficiency_cat2_exposed_in_2022_among_1_to_4',\n",
       " 'vitamin_a_deficiency_cat1_exposed_in_2023_among_1_to_4',\n",
       " 'vitamin_a_deficiency_cat2_exposed_in_2023_among_1_to_4',\n",
       " 'supplemented_days_in_2017',\n",
       " 'supplemented_days_in_2018',\n",
       " 'supplemented_days_in_2019',\n",
       " 'supplemented_days_in_2020',\n",
       " 'supplemented_days_in_2021',\n",
       " 'supplemented_days_in_2022',\n",
       " 'supplemented_days_in_2023',\n",
       " 'supplemented_days_in_2024',\n",
       " 'measles_prevalent_cases_at_sim_end',\n",
       " 'diarrheal_diseases_prevalent_cases_at_sim_end',\n",
       " 'lower_respiratory_infections_prevalent_cases_at_sim_end',\n",
       " 'susceptible_to_measles_event_count',\n",
       " 'measles_event_count',\n",
       " 'recovered_from_measles_event_count',\n",
       " 'susceptible_to_diarrheal_diseases_event_count',\n",
       " 'diarrheal_diseases_event_count',\n",
       " 'susceptible_to_lower_respiratory_infections_event_count',\n",
       " 'lower_respiratory_infections_event_count',\n",
       " 'input_draw',\n",
       " 'random_seed',\n",
       " 'person_time_in_2017',\n",
       " 'person_time_in_2018',\n",
       " 'person_time_in_2019',\n",
       " 'person_time_in_2020',\n",
       " 'person_time_in_2021',\n",
       " 'person_time_in_2022',\n",
       " 'person_time_in_2023',\n",
       " 'person_time_in_2024',\n",
       " 'ylls_due_to_measles_in_2017',\n",
       " 'ylls_due_to_diarrheal_diseases_in_2017',\n",
       " 'ylls_due_to_lower_respiratory_infections_in_2017',\n",
       " 'ylls_due_to_other_causes_in_2017',\n",
       " 'ylls_due_to_measles_in_2018',\n",
       " 'ylls_due_to_diarrheal_diseases_in_2018',\n",
       " 'ylls_due_to_lower_respiratory_infections_in_2018',\n",
       " 'ylls_due_to_other_causes_in_2018',\n",
       " 'ylls_due_to_measles_in_2019',\n",
       " 'ylls_due_to_diarrheal_diseases_in_2019',\n",
       " 'ylls_due_to_lower_respiratory_infections_in_2019',\n",
       " 'ylls_due_to_other_causes_in_2019',\n",
       " 'ylls_due_to_measles_in_2020',\n",
       " 'ylls_due_to_diarrheal_diseases_in_2020',\n",
       " 'ylls_due_to_lower_respiratory_infections_in_2020',\n",
       " 'ylls_due_to_other_causes_in_2020',\n",
       " 'ylls_due_to_measles_in_2021',\n",
       " 'ylls_due_to_diarrheal_diseases_in_2021',\n",
       " 'ylls_due_to_lower_respiratory_infections_in_2021',\n",
       " 'ylls_due_to_other_causes_in_2021',\n",
       " 'ylls_due_to_measles_in_2022',\n",
       " 'ylls_due_to_diarrheal_diseases_in_2022',\n",
       " 'ylls_due_to_lower_respiratory_infections_in_2022',\n",
       " 'ylls_due_to_other_causes_in_2022',\n",
       " 'ylls_due_to_measles_in_2023',\n",
       " 'ylls_due_to_diarrheal_diseases_in_2023',\n",
       " 'ylls_due_to_lower_respiratory_infections_in_2023',\n",
       " 'ylls_due_to_other_causes_in_2023',\n",
       " 'ylls_due_to_diarrheal_diseases_in_2024',\n",
       " 'ylls_due_to_lower_respiratory_infections_in_2024',\n",
       " 'ylls_due_to_other_causes_in_2024',\n",
       " 'years_of_life_lost',\n",
       " 'years_lived_with_disability',\n",
       " 'ylds_due_to_measles',\n",
       " 'ylds_due_to_diarrheal_diseases',\n",
       " 'ylds_due_to_lower_respiratory_infections',\n",
       " 'simulation_run_time',\n",
       " 'target_coverage',\n",
       " 'vitamin_a_supplementation']"
      ]
     },
     "execution_count": 62,
     "metadata": {},
     "output_type": "execute_result"
    }
   ],
   "source": [
    "df = df.iloc[:, :]\n",
    "list(df.columns)"
   ]
  },
  {
   "cell_type": "code",
   "execution_count": 63,
   "metadata": {
    "scrolled": true
   },
   "outputs": [
    {
     "name": "stdout",
     "output_type": "stream",
     "text": [
      "Exposure in 2017 is 0.28566311328333616\n",
      "Exposure in 2018 is 0.2838724057572136\n",
      "Exposure in 2019 is 0.2826006768793537\n",
      "Exposure in 2020 is 0.2813527727708254\n",
      "Exposure in 2021 is 0.28075006852600937\n",
      "Exposure in 2022 is 0.28066269841789926\n",
      "Exposure in 2023 is 0.28053738865015926\n"
     ]
    }
   ],
   "source": [
    "df['exposure_2017'] = df.vitamin_a_deficiency_cat1_exposed_in_2017_among_1_to_4/(df.vitamin_a_deficiency_cat1_exposed_in_2017_among_1_to_4 + df.vitamin_a_deficiency_cat2_exposed_in_2017_among_1_to_4)\n",
    "print(\"Exposure in 2017 is \" + str(df.exposure_2017.mean()))\n",
    "df['exposure_2018'] = df.vitamin_a_deficiency_cat1_exposed_in_2018_among_1_to_4/(df.vitamin_a_deficiency_cat1_exposed_in_2018_among_1_to_4 + df.vitamin_a_deficiency_cat2_exposed_in_2018_among_1_to_4)\n",
    "print(\"Exposure in 2018 is \" + str(df.exposure_2018.mean()))\n",
    "df['exposure_2019'] = df.vitamin_a_deficiency_cat1_exposed_in_2019_among_1_to_4/(df.vitamin_a_deficiency_cat1_exposed_in_2019_among_1_to_4 + df.vitamin_a_deficiency_cat2_exposed_in_2019_among_1_to_4)\n",
    "print(\"Exposure in 2019 is \" + str(df.exposure_2019.mean()))\n",
    "df['exposure_2020'] = df.vitamin_a_deficiency_cat1_exposed_in_2020_among_1_to_4/(df.vitamin_a_deficiency_cat1_exposed_in_2020_among_1_to_4 + df.vitamin_a_deficiency_cat2_exposed_in_2020_among_1_to_4)\n",
    "print(\"Exposure in 2020 is \" + str(df.exposure_2020.mean()))\n",
    "df['exposure_2021'] = df.vitamin_a_deficiency_cat1_exposed_in_2021_among_1_to_4/(df.vitamin_a_deficiency_cat1_exposed_in_2021_among_1_to_4 + df.vitamin_a_deficiency_cat2_exposed_in_2021_among_1_to_4)\n",
    "print(\"Exposure in 2021 is \" + str(df.exposure_2021.mean()))\n",
    "df['exposure_2022'] = df.vitamin_a_deficiency_cat1_exposed_in_2022_among_1_to_4/(df.vitamin_a_deficiency_cat1_exposed_in_2022_among_1_to_4 + df.vitamin_a_deficiency_cat2_exposed_in_2022_among_1_to_4)\n",
    "print(\"Exposure in 2022 is \" + str(df.exposure_2022.mean()))\n",
    "df['exposure_2023'] = df.vitamin_a_deficiency_cat1_exposed_in_2023_among_1_to_4/(df.vitamin_a_deficiency_cat1_exposed_in_2023_among_1_to_4 + df.vitamin_a_deficiency_cat2_exposed_in_2023_among_1_to_4)\n",
    "print(\"Exposure in 2023 is \" + str(df.exposure_2023.mean()))\n",
    "exposure_Burkina_Faso = [df.exposure_2017.mean(), df.exposure_2018.mean(), df.exposure_2019.mean(), df.exposure_2020.mean(), \n",
    "                  df.exposure_2021.mean(), df.exposure_2022.mean(), df.exposure_2023.mean()]"
   ]
  },
  {
   "cell_type": "code",
   "execution_count": 64,
   "metadata": {},
   "outputs": [],
   "source": [
    "py_17 = df.person_time_in_2017.mean()\n",
    "py_18 = df.person_time_in_2018.mean()\n",
    "py_19 = df.person_time_in_2019.mean()\n",
    "py_20 = df.person_time_in_2020.mean()\n",
    "py_21 = df.person_time_in_2021.mean()\n",
    "py_22 = df.person_time_in_2022.mean()\n",
    "py_23 = df.person_time_in_2023.mean()"
   ]
  },
  {
   "cell_type": "code",
   "execution_count": 65,
   "metadata": {},
   "outputs": [],
   "source": [
    "df['yll_measles_per_py_17'] = df.ylls_due_to_measles_in_2017 / py_17\n",
    "df['yll_diarrhea_per_py_17'] = df.ylls_due_to_diarrheal_diseases_in_2017 / py_17\n",
    "df['yll_lri_per_py_17'] = df.ylls_due_to_lower_respiratory_infections_in_2017 / py_17\n",
    "df['yll_per_py_17'] = df.yll_measles_per_py_17 + df.yll_diarrhea_per_py_17 + df.yll_lri_per_py_17\n",
    "\n",
    "df['yld_measles_per_py_17'] = df.ylds_due_to_measles / py_17\n",
    "df['yld_diarrhea_per_py_17'] = df.ylds_due_to_diarrheal_diseases / py_17\n",
    "df['yld_lri_per_py_17'] = df.ylds_due_to_lower_respiratory_infections / py_17\n",
    "df['yld_per_py_17'] = df.yld_measles_per_py_17 + df.yld_diarrhea_per_py_17 + df.yld_lri_per_py_17\n",
    "\n",
    "df['daly_measles_per_py_17'] = df.yll_measles_per_py_17 + df.yld_measles_per_py_17\n",
    "df['daly_diarrhea_per_py_17'] = df.yll_diarrhea_per_py_17 + df.yld_diarrhea_per_py_17\n",
    "df['daly_lri_per_py_17'] = df.yll_lri_per_py_17 + df.yld_lri_per_py_17\n",
    "df['daly_per_py_17'] = df.daly_measles_per_py_17 + df.daly_diarrhea_per_py_17 + df.daly_lri_per_py_17"
   ]
  },
  {
   "cell_type": "code",
   "execution_count": 66,
   "metadata": {},
   "outputs": [],
   "source": [
    "df['yll_measles_per_py_18'] = df.ylls_due_to_measles_in_2018 / py_18\n",
    "df['yll_diarrhea_per_py_18'] = df.ylls_due_to_diarrheal_diseases_in_2018 / py_18\n",
    "df['yll_lri_per_py_18'] = df.ylls_due_to_lower_respiratory_infections_in_2018 / py_18\n",
    "df['yll_per_py_18'] = df.yll_measles_per_py_18 + df.yll_diarrhea_per_py_18 + df.yll_lri_per_py_18\n",
    "\n",
    "df['yld_measles_per_py_18'] = df.ylds_due_to_measles / py_18\n",
    "df['yld_diarrhea_per_py_18'] = df.ylds_due_to_diarrheal_diseases / py_18\n",
    "df['yld_lri_per_py_18'] = df.ylds_due_to_lower_respiratory_infections / py_18\n",
    "df['yld_per_py_18'] = df.yld_measles_per_py_18 + df.yld_diarrhea_per_py_18 + df.yld_lri_per_py_18\n",
    "\n",
    "df['daly_measles_per_py_18'] = df.yll_measles_per_py_18 + df.yld_measles_per_py_18\n",
    "df['daly_diarrhea_per_py_18'] = df.yll_diarrhea_per_py_18 + df.yld_diarrhea_per_py_18\n",
    "df['daly_lri_per_py_18'] = df.yll_lri_per_py_18 + df.yld_lri_per_py_18\n",
    "df['daly_per_py_18'] = df.daly_measles_per_py_18 + df.daly_diarrhea_per_py_18 + df.daly_lri_per_py_18"
   ]
  },
  {
   "cell_type": "code",
   "execution_count": 67,
   "metadata": {},
   "outputs": [],
   "source": [
    "df['yll_measles_per_py_19'] = df.ylls_due_to_measles_in_2019 / py_19\n",
    "df['yll_diarrhea_per_py_19'] = df.ylls_due_to_diarrheal_diseases_in_2019 / py_19\n",
    "df['yll_lri_per_py_19'] = df.ylls_due_to_lower_respiratory_infections_in_2019 / py_19\n",
    "df['yll_per_py_19'] = df.yll_measles_per_py_19 + df.yll_diarrhea_per_py_19 + df.yll_lri_per_py_19\n",
    "\n",
    "df['yld_measles_per_py_19'] = df.ylds_due_to_measles / py_19\n",
    "df['yld_diarrhea_per_py_19'] = df.ylds_due_to_diarrheal_diseases / py_19\n",
    "df['yld_lri_per_py_19'] = df.ylds_due_to_lower_respiratory_infections / py_19\n",
    "df['yld_per_py_19'] = df.yld_measles_per_py_19 + df.yld_diarrhea_per_py_19 + df.yld_lri_per_py_19\n",
    "\n",
    "df['daly_measles_per_py_19'] = df.yll_measles_per_py_19 + df.yld_measles_per_py_19\n",
    "df['daly_diarrhea_per_py_19'] = df.yll_diarrhea_per_py_19 + df.yld_diarrhea_per_py_19\n",
    "df['daly_lri_per_py_19'] = df.yll_lri_per_py_19 + df.yld_lri_per_py_19\n",
    "df['daly_per_py_19'] = df.daly_measles_per_py_19 + df.daly_diarrhea_per_py_19 + df.daly_lri_per_py_19"
   ]
  },
  {
   "cell_type": "code",
   "execution_count": 68,
   "metadata": {},
   "outputs": [],
   "source": [
    "df['yll_measles_per_py_20'] = df.ylls_due_to_measles_in_2020 / py_20\n",
    "df['yll_diarrhea_per_py_20'] = df.ylls_due_to_diarrheal_diseases_in_2020 / py_20\n",
    "df['yll_lri_per_py_20'] = df.ylls_due_to_lower_respiratory_infections_in_2020 / py_20\n",
    "df['yll_per_py_20'] = df.yll_measles_per_py_20 + df.yll_diarrhea_per_py_20 + df.yll_lri_per_py_20\n",
    "\n",
    "df['yld_measles_per_py_20'] = df.ylds_due_to_measles / py_20\n",
    "df['yld_diarrhea_per_py_20'] = df.ylds_due_to_diarrheal_diseases / py_20\n",
    "df['yld_lri_per_py_20'] = df.ylds_due_to_lower_respiratory_infections / py_20\n",
    "df['yld_per_py_20'] = df.yld_measles_per_py_20 + df.yld_diarrhea_per_py_20 + df.yld_lri_per_py_20\n",
    "\n",
    "df['daly_measles_per_py_20'] = df.yll_measles_per_py_20 + df.yld_measles_per_py_20\n",
    "df['daly_diarrhea_per_py_20'] = df.yll_diarrhea_per_py_20 + df.yld_diarrhea_per_py_20\n",
    "df['daly_lri_per_py_20'] = df.yll_lri_per_py_20 + df.yld_lri_per_py_20\n",
    "df['daly_per_py_20'] = df.daly_measles_per_py_20 + df.daly_diarrhea_per_py_20 + df.daly_lri_per_py_20"
   ]
  },
  {
   "cell_type": "code",
   "execution_count": 69,
   "metadata": {},
   "outputs": [],
   "source": [
    "df['yll_measles_per_py_21'] = df.ylls_due_to_measles_in_2021 / py_21\n",
    "df['yll_diarrhea_per_py_21'] = df.ylls_due_to_diarrheal_diseases_in_2021 / py_21\n",
    "df['yll_lri_per_py_21'] = df.ylls_due_to_lower_respiratory_infections_in_2021 / py_21\n",
    "df['yll_per_py_21'] = df.yll_measles_per_py_21 + df.yll_diarrhea_per_py_21 + df.yll_lri_per_py_21\n",
    "\n",
    "df['yld_measles_per_py_21'] = df.ylds_due_to_measles / py_21\n",
    "df['yld_diarrhea_per_py_21'] = df.ylds_due_to_diarrheal_diseases / py_21\n",
    "df['yld_lri_per_py_21'] = df.ylds_due_to_lower_respiratory_infections / py_21\n",
    "df['yld_per_py_21'] = df.yld_measles_per_py_21 + df.yld_diarrhea_per_py_21 + df.yld_lri_per_py_21\n",
    "\n",
    "df['daly_measles_per_py_21'] = df.yll_measles_per_py_21 + df.yld_measles_per_py_21\n",
    "df['daly_diarrhea_per_py_21'] = df.yll_diarrhea_per_py_21 + df.yld_diarrhea_per_py_21\n",
    "df['daly_lri_per_py_21'] = df.yll_lri_per_py_21 + df.yld_lri_per_py_21\n",
    "df['daly_per_py_21'] = df.daly_measles_per_py_21 + df.daly_diarrhea_per_py_21 + df.daly_lri_per_py_21"
   ]
  },
  {
   "cell_type": "code",
   "execution_count": 70,
   "metadata": {},
   "outputs": [],
   "source": [
    "df['yll_measles_per_py_22'] = df.ylls_due_to_measles_in_2022 / py_22\n",
    "df['yll_diarrhea_per_py_22'] = df.ylls_due_to_diarrheal_diseases_in_2022 / py_22\n",
    "df['yll_lri_per_py_22'] = df.ylls_due_to_lower_respiratory_infections_in_2022 / py_22\n",
    "df['yll_per_py_22'] = df.yll_measles_per_py_22 + df.yll_diarrhea_per_py_22 + df.yll_lri_per_py_22\n",
    "\n",
    "df['yld_measles_per_py_22'] = df.ylds_due_to_measles / py_22\n",
    "df['yld_diarrhea_per_py_22'] = df.ylds_due_to_diarrheal_diseases / py_22\n",
    "df['yld_lri_per_py_22'] = df.ylds_due_to_lower_respiratory_infections / py_22\n",
    "df['yld_per_py_22'] = df.yld_measles_per_py_22 + df.yld_diarrhea_per_py_22 + df.yld_lri_per_py_22\n",
    "\n",
    "df['daly_measles_per_py_22'] = df.yll_measles_per_py_22 + df.yld_measles_per_py_22\n",
    "df['daly_diarrhea_per_py_22'] = df.yll_diarrhea_per_py_22 + df.yld_diarrhea_per_py_22\n",
    "df['daly_lri_per_py_22'] = df.yll_lri_per_py_22 + df.yld_lri_per_py_22\n",
    "df['daly_per_py_22'] = df.daly_measles_per_py_22 + df.daly_diarrhea_per_py_22 + df.daly_lri_per_py_22"
   ]
  },
  {
   "cell_type": "code",
   "execution_count": 71,
   "metadata": {},
   "outputs": [],
   "source": [
    "df['yll_measles_per_py_23'] = df.ylls_due_to_measles_in_2023 / py_23\n",
    "df['yll_diarrhea_per_py_23'] = df.ylls_due_to_diarrheal_diseases_in_2023 / py_23\n",
    "df['yll_lri_per_py_23'] = df.ylls_due_to_lower_respiratory_infections_in_2023 / py_23\n",
    "df['yll_per_py_23'] = df.yll_measles_per_py_23 + df.yll_diarrhea_per_py_23 + df.yll_lri_per_py_23\n",
    "\n",
    "df['yld_measles_per_py_23'] = df.ylds_due_to_measles / py_23\n",
    "df['yld_diarrhea_per_py_23'] = df.ylds_due_to_diarrheal_diseases / py_23\n",
    "df['yld_lri_per_py_23'] = df.ylds_due_to_lower_respiratory_infections / py_23\n",
    "df['yld_per_py_23'] = df.yld_measles_per_py_23 + df.yld_diarrhea_per_py_23 + df.yld_lri_per_py_23\n",
    "\n",
    "df['daly_measles_per_py_23'] = df.yll_measles_per_py_23 + df.yld_measles_per_py_23\n",
    "df['daly_diarrhea_per_py_23'] = df.yll_diarrhea_per_py_23 + df.yld_diarrhea_per_py_23\n",
    "df['daly_lri_per_py_23'] = df.yll_lri_per_py_23 + df.yld_lri_per_py_23\n",
    "df['daly_per_py_23'] = df.daly_measles_per_py_23 + df.daly_diarrhea_per_py_23 + df.daly_lri_per_py_23"
   ]
  },
  {
   "cell_type": "code",
   "execution_count": 72,
   "metadata": {},
   "outputs": [
    {
     "name": "stdout",
     "output_type": "stream",
     "text": [
      "Overall DALY rate in 2017: 1.484691069939698\n",
      "Rate of DALYs from measles in 2017: 0.051828850987768016\n",
      "Rate of DALYs from diarrheal diseases in 2017: 0.7486474954429445\n",
      "Rate of DALYs from lower respiratory infections in 2017: 0.6842147235089853\n"
     ]
    }
   ],
   "source": [
    "print(\"Overall DALY rate in 2017: \" + str(df.daly_per_py_17.mean()))\n",
    "print(\"Rate of DALYs from measles in 2017: \" + str(df.daly_measles_per_py_17.mean()))\n",
    "print(\"Rate of DALYs from diarrheal diseases in 2017: \" + str(df.daly_diarrhea_per_py_17.mean()))\n",
    "print(\"Rate of DALYs from lower respiratory infections in 2017: \" + str(df.daly_lri_per_py_17.mean()))"
   ]
  },
  {
   "cell_type": "code",
   "execution_count": 73,
   "metadata": {},
   "outputs": [
    {
     "name": "stdout",
     "output_type": "stream",
     "text": [
      "Overall DALY rate in 2018: 1.581348415564239\n",
      "Rate of DALYs from measles in 2018: 0.056807788298720886\n",
      "Rate of DALYs from diarrheal diseases in 2018: 0.7869083082888527\n",
      "Rate of DALYs from lower respiratory infections in 2018: 0.7376323189766655\n"
     ]
    }
   ],
   "source": [
    "print(\"Overall DALY rate in 2018: \" + str(df.daly_per_py_18.mean()))\n",
    "print(\"Rate of DALYs from measles in 2018: \" + str(df.daly_measles_per_py_18.mean()))\n",
    "print(\"Rate of DALYs from diarrheal diseases in 2018: \" + str(df.daly_diarrhea_per_py_18.mean()))\n",
    "print(\"Rate of DALYs from lower respiratory infections in 2018: \" + str(df.daly_lri_per_py_18.mean()))"
   ]
  },
  {
   "cell_type": "code",
   "execution_count": 74,
   "metadata": {},
   "outputs": [
    {
     "name": "stdout",
     "output_type": "stream",
     "text": [
      "Overall DALY rate in 2019: 1.566388694121645\n",
      "Rate of DALYs from measles in 2019: 0.054713629154746056\n",
      "Rate of DALYs from diarrheal diseases in 2019: 0.7801307461303424\n",
      "Rate of DALYs from lower respiratory infections in 2019: 0.7315443188365569\n"
     ]
    }
   ],
   "source": [
    "print(\"Overall DALY rate in 2019: \" + str(df.daly_per_py_19.mean()))\n",
    "print(\"Rate of DALYs from measles in 2019: \" + str(df.daly_measles_per_py_19.mean()))\n",
    "print(\"Rate of DALYs from diarrheal diseases in 2019: \" + str(df.daly_diarrhea_per_py_19.mean()))\n",
    "print(\"Rate of DALYs from lower respiratory infections in 2019: \" + str(df.daly_lri_per_py_19.mean()))"
   ]
  },
  {
   "cell_type": "code",
   "execution_count": 75,
   "metadata": {},
   "outputs": [
    {
     "name": "stdout",
     "output_type": "stream",
     "text": [
      "Overall DALY rate in 2020: 1.579535748284572\n",
      "Rate of DALYs from measles in 2020: 0.055342147545898016\n",
      "Rate of DALYs from diarrheal diseases in 2020: 0.7919310118172079\n",
      "Rate of DALYs from lower respiratory infections in 2020: 0.7322625889214663\n"
     ]
    }
   ],
   "source": [
    "print(\"Overall DALY rate in 2020: \" + str(df.daly_per_py_20.mean()))\n",
    "print(\"Rate of DALYs from measles in 2020: \" + str(df.daly_measles_per_py_20.mean()))\n",
    "print(\"Rate of DALYs from diarrheal diseases in 2020: \" + str(df.daly_diarrhea_per_py_20.mean()))\n",
    "print(\"Rate of DALYs from lower respiratory infections in 2020: \" + str(df.daly_lri_per_py_20.mean()))"
   ]
  },
  {
   "cell_type": "code",
   "execution_count": 76,
   "metadata": {},
   "outputs": [
    {
     "name": "stdout",
     "output_type": "stream",
     "text": [
      "Overall DALY rate in 2021: 1.5526982134192786\n",
      "Rate of DALYs from measles in 2021: 0.04776042468266318\n",
      "Rate of DALYs from diarrheal diseases in 2021: 0.7815924059096508\n",
      "Rate of DALYs from lower respiratory infections in 2021: 0.7233453828269647\n"
     ]
    }
   ],
   "source": [
    "print(\"Overall DALY rate in 2021: \" + str(df.daly_per_py_21.mean()))\n",
    "print(\"Rate of DALYs from measles in 2021: \" + str(df.daly_measles_per_py_21.mean()))\n",
    "print(\"Rate of DALYs from diarrheal diseases in 2021: \" + str(df.daly_diarrhea_per_py_21.mean()))\n",
    "print(\"Rate of DALYs from lower respiratory infections in 2021: \" + str(df.daly_lri_per_py_21.mean()))"
   ]
  },
  {
   "cell_type": "code",
   "execution_count": 77,
   "metadata": {},
   "outputs": [
    {
     "name": "stdout",
     "output_type": "stream",
     "text": [
      "Overall DALY rate in 2022: 1.6911791079568779\n",
      "Rate of DALYs from measles in 2022: 0.05382484357332459\n",
      "Rate of DALYs from diarrheal diseases in 2022: 0.8408620609788134\n",
      "Rate of DALYs from lower respiratory infections in 2022: 0.7964922034047399\n"
     ]
    }
   ],
   "source": [
    "print(\"Overall DALY rate in 2022: \" + str(df.daly_per_py_22.mean()))\n",
    "print(\"Rate of DALYs from measles in 2022: \" + str(df.daly_measles_per_py_22.mean()))\n",
    "print(\"Rate of DALYs from diarrheal diseases in 2022: \" + str(df.daly_diarrhea_per_py_22.mean()))\n",
    "print(\"Rate of DALYs from lower respiratory infections in 2022: \" + str(df.daly_lri_per_py_22.mean()))"
   ]
  },
  {
   "cell_type": "code",
   "execution_count": 78,
   "metadata": {},
   "outputs": [
    {
     "name": "stdout",
     "output_type": "stream",
     "text": [
      "Overall DALY rate in 2023: 1.5512071326760433\n",
      "Rate of DALYs from measles in 2023: 0.050257795185247395\n",
      "Rate of DALYs from diarrheal diseases in 2023: 0.7599840658020497\n",
      "Rate of DALYs from lower respiratory infections in 2023: 0.7409652716887457\n"
     ]
    }
   ],
   "source": [
    "print(\"Overall DALY rate in 2023: \" + str(df.daly_per_py_23.mean()))\n",
    "print(\"Rate of DALYs from measles in 2023: \" + str(df.daly_measles_per_py_23.mean()))\n",
    "print(\"Rate of DALYs from diarrheal diseases in 2023: \" + str(df.daly_diarrhea_per_py_23.mean()))\n",
    "print(\"Rate of DALYs from lower respiratory infections in 2023: \" + str(df.daly_lri_per_py_23.mean()))"
   ]
  },
  {
   "cell_type": "code",
   "execution_count": 79,
   "metadata": {},
   "outputs": [
    {
     "name": "stdout",
     "output_type": "stream",
     "text": [
      "[0.88  0.88  0.892 0.904 0.916 0.928 0.94 ]\n",
      "[3497326.2 4099451.4 4701516.6 5304106.2 5903139.3 7072176.9 7153182.9]\n"
     ]
    }
   ],
   "source": [
    "coverages = np.append(np.array([0.88]), np.linspace(0.88, 0.94, 6))\n",
    "print(coverages)\n",
    "\n",
    "supplemented = np.array([df.supplemented_days_in_2017.mean(), df.supplemented_days_in_2018.mean(), df.supplemented_days_in_2019.mean(),\n",
    "                         df.supplemented_days_in_2020.mean(), df.supplemented_days_in_2021.mean(), df.supplemented_days_in_2022.mean(),\n",
    "                         df.supplemented_days_in_2023.mean()])\n",
    "\n",
    "print(supplemented)"
   ]
  },
  {
   "cell_type": "code",
   "execution_count": 80,
   "metadata": {},
   "outputs": [
    {
     "data": {
      "text/plain": [
       "41241692.1456"
      ]
     },
     "execution_count": 80,
     "metadata": {},
     "output_type": "execute_result"
    }
   ],
   "source": [
    "unit_cost = 0.60 # UC Davis Paper\n",
    "\n",
    "doses = coverages * supplemented * 2\n",
    "total_intervention_cost = unit_cost * doses.sum()\n",
    "\n",
    "total_intervention_cost"
   ]
  },
  {
   "cell_type": "code",
   "execution_count": 81,
   "metadata": {
    "scrolled": true
   },
   "outputs": [
    {
     "name": "stdout",
     "output_type": "stream",
     "text": [
      "26077.16 12666.47\n",
      "1446.8945046163003\n",
      "3.964094533195343\n"
     ]
    }
   ],
   "source": [
    "average_supplemented_days_per_individual = supplemented.sum() / df.total_population.mean()\n",
    "years_supplemented = average_supplemented_days_per_individual / 365\n",
    "\n",
    "\n",
    "print(df.total_population.mean(), df.total_population_tracked.mean())\n",
    "print(average_supplemented_days_per_individual)\n",
    "print(years_supplemented)"
   ]
  },
  {
   "cell_type": "code",
   "execution_count": null,
   "metadata": {},
   "outputs": [],
   "source": []
  },
  {
   "cell_type": "code",
   "execution_count": null,
   "metadata": {},
   "outputs": [],
   "source": []
  },
  {
   "cell_type": "code",
   "execution_count": null,
   "metadata": {},
   "outputs": [],
   "source": []
  },
  {
   "cell_type": "code",
   "execution_count": null,
   "metadata": {},
   "outputs": [],
   "source": []
  },
  {
   "cell_type": "code",
   "execution_count": null,
   "metadata": {},
   "outputs": [],
   "source": []
  },
  {
   "cell_type": "code",
   "execution_count": null,
   "metadata": {},
   "outputs": [],
   "source": []
  },
  {
   "cell_type": "markdown",
   "metadata": {},
   "source": [
    "## Baseline Burkina Faso"
   ]
  },
  {
   "cell_type": "code",
   "execution_count": 82,
   "metadata": {
    "scrolled": true
   },
   "outputs": [
    {
     "name": "stdout",
     "output_type": "stream",
     "text": [
      "/share/costeffectiveness/results/burkina_faso/2019_07_31_22_03_38/output.hdf\n"
     ]
    }
   ],
   "source": [
    "# input_draw_count = 100 and population_size = 10_000\n",
    "proj = 'burkina_faso'\n",
    "time = '2019_07_31_22_03_38'\n",
    "\n",
    "fname = f'/share/costeffectiveness/results/{proj}/{time}/output.hdf'\n",
    "print(fname)"
   ]
  },
  {
   "cell_type": "code",
   "execution_count": 83,
   "metadata": {
    "scrolled": true
   },
   "outputs": [
    {
     "data": {
      "text/plain": [
       "(100, 161)"
      ]
     },
     "execution_count": 83,
     "metadata": {},
     "output_type": "execute_result"
    }
   ],
   "source": [
    "dfb = pd.read_hdf(fname)\n",
    "dfb = dfb.query('target_coverage == 0.88')\n",
    "dfb.shape"
   ]
  },
  {
   "cell_type": "code",
   "execution_count": 84,
   "metadata": {
    "scrolled": true
   },
   "outputs": [
    {
     "data": {
      "text/plain": [
       "['total_population_untracked',\n",
       " 'total_population_tracked',\n",
       " 'total_population',\n",
       " 'death_due_to_measles_in_2017',\n",
       " 'death_due_to_diarrheal_diseases_in_2017',\n",
       " 'death_due_to_lower_respiratory_infections_in_2017',\n",
       " 'death_due_to_other_causes_in_2017',\n",
       " 'death_due_to_measles_in_2018',\n",
       " 'death_due_to_diarrheal_diseases_in_2018',\n",
       " 'death_due_to_lower_respiratory_infections_in_2018',\n",
       " 'death_due_to_other_causes_in_2018',\n",
       " 'death_due_to_measles_in_2019',\n",
       " 'death_due_to_diarrheal_diseases_in_2019',\n",
       " 'death_due_to_lower_respiratory_infections_in_2019',\n",
       " 'death_due_to_other_causes_in_2019',\n",
       " 'death_due_to_measles_in_2020',\n",
       " 'death_due_to_diarrheal_diseases_in_2020',\n",
       " 'death_due_to_lower_respiratory_infections_in_2020',\n",
       " 'death_due_to_other_causes_in_2020',\n",
       " 'death_due_to_measles_in_2021',\n",
       " 'death_due_to_diarrheal_diseases_in_2021',\n",
       " 'death_due_to_lower_respiratory_infections_in_2021',\n",
       " 'death_due_to_other_causes_in_2021',\n",
       " 'death_due_to_measles_in_2022',\n",
       " 'death_due_to_diarrheal_diseases_in_2022',\n",
       " 'death_due_to_lower_respiratory_infections_in_2022',\n",
       " 'death_due_to_other_causes_in_2022',\n",
       " 'death_due_to_measles_in_2023',\n",
       " 'death_due_to_diarrheal_diseases_in_2023',\n",
       " 'death_due_to_lower_respiratory_infections_in_2023',\n",
       " 'death_due_to_other_causes_in_2023',\n",
       " 'death_due_to_measles_in_2024',\n",
       " 'death_due_to_diarrheal_diseases_in_2024',\n",
       " 'death_due_to_lower_respiratory_infections_in_2024',\n",
       " 'death_due_to_other_causes_in_2024',\n",
       " 'ylls_due_to_measles_in_2024',\n",
       " 'total_population_living',\n",
       " 'total_population_dead',\n",
       " 'vitamin_a_deficiency_cat1_exposed_in_2017_among_early_neonatal',\n",
       " 'vitamin_a_deficiency_cat2_exposed_in_2017_among_early_neonatal',\n",
       " 'vitamin_a_deficiency_cat1_exposed_in_2018_among_early_neonatal',\n",
       " 'vitamin_a_deficiency_cat2_exposed_in_2018_among_early_neonatal',\n",
       " 'vitamin_a_deficiency_cat1_exposed_in_2019_among_early_neonatal',\n",
       " 'vitamin_a_deficiency_cat2_exposed_in_2019_among_early_neonatal',\n",
       " 'vitamin_a_deficiency_cat1_exposed_in_2020_among_early_neonatal',\n",
       " 'vitamin_a_deficiency_cat2_exposed_in_2020_among_early_neonatal',\n",
       " 'vitamin_a_deficiency_cat1_exposed_in_2021_among_early_neonatal',\n",
       " 'vitamin_a_deficiency_cat2_exposed_in_2021_among_early_neonatal',\n",
       " 'vitamin_a_deficiency_cat1_exposed_in_2022_among_early_neonatal',\n",
       " 'vitamin_a_deficiency_cat2_exposed_in_2022_among_early_neonatal',\n",
       " 'vitamin_a_deficiency_cat1_exposed_in_2023_among_early_neonatal',\n",
       " 'vitamin_a_deficiency_cat2_exposed_in_2023_among_early_neonatal',\n",
       " 'vitamin_a_deficiency_cat1_exposed_in_2017_among_late_neonatal',\n",
       " 'vitamin_a_deficiency_cat2_exposed_in_2017_among_late_neonatal',\n",
       " 'vitamin_a_deficiency_cat1_exposed_in_2018_among_late_neonatal',\n",
       " 'vitamin_a_deficiency_cat2_exposed_in_2018_among_late_neonatal',\n",
       " 'vitamin_a_deficiency_cat1_exposed_in_2019_among_late_neonatal',\n",
       " 'vitamin_a_deficiency_cat2_exposed_in_2019_among_late_neonatal',\n",
       " 'vitamin_a_deficiency_cat1_exposed_in_2020_among_late_neonatal',\n",
       " 'vitamin_a_deficiency_cat2_exposed_in_2020_among_late_neonatal',\n",
       " 'vitamin_a_deficiency_cat1_exposed_in_2021_among_late_neonatal',\n",
       " 'vitamin_a_deficiency_cat2_exposed_in_2021_among_late_neonatal',\n",
       " 'vitamin_a_deficiency_cat1_exposed_in_2022_among_late_neonatal',\n",
       " 'vitamin_a_deficiency_cat2_exposed_in_2022_among_late_neonatal',\n",
       " 'vitamin_a_deficiency_cat1_exposed_in_2023_among_late_neonatal',\n",
       " 'vitamin_a_deficiency_cat2_exposed_in_2023_among_late_neonatal',\n",
       " 'vitamin_a_deficiency_cat1_exposed_in_2017_among_post_neonatal',\n",
       " 'vitamin_a_deficiency_cat2_exposed_in_2017_among_post_neonatal',\n",
       " 'vitamin_a_deficiency_cat1_exposed_in_2018_among_post_neonatal',\n",
       " 'vitamin_a_deficiency_cat2_exposed_in_2018_among_post_neonatal',\n",
       " 'vitamin_a_deficiency_cat1_exposed_in_2019_among_post_neonatal',\n",
       " 'vitamin_a_deficiency_cat2_exposed_in_2019_among_post_neonatal',\n",
       " 'vitamin_a_deficiency_cat1_exposed_in_2020_among_post_neonatal',\n",
       " 'vitamin_a_deficiency_cat2_exposed_in_2020_among_post_neonatal',\n",
       " 'vitamin_a_deficiency_cat1_exposed_in_2021_among_post_neonatal',\n",
       " 'vitamin_a_deficiency_cat2_exposed_in_2021_among_post_neonatal',\n",
       " 'vitamin_a_deficiency_cat1_exposed_in_2022_among_post_neonatal',\n",
       " 'vitamin_a_deficiency_cat2_exposed_in_2022_among_post_neonatal',\n",
       " 'vitamin_a_deficiency_cat1_exposed_in_2023_among_post_neonatal',\n",
       " 'vitamin_a_deficiency_cat2_exposed_in_2023_among_post_neonatal',\n",
       " 'vitamin_a_deficiency_cat1_exposed_in_2017_among_1_to_4',\n",
       " 'vitamin_a_deficiency_cat2_exposed_in_2017_among_1_to_4',\n",
       " 'vitamin_a_deficiency_cat1_exposed_in_2018_among_1_to_4',\n",
       " 'vitamin_a_deficiency_cat2_exposed_in_2018_among_1_to_4',\n",
       " 'vitamin_a_deficiency_cat1_exposed_in_2019_among_1_to_4',\n",
       " 'vitamin_a_deficiency_cat2_exposed_in_2019_among_1_to_4',\n",
       " 'vitamin_a_deficiency_cat1_exposed_in_2020_among_1_to_4',\n",
       " 'vitamin_a_deficiency_cat2_exposed_in_2020_among_1_to_4',\n",
       " 'vitamin_a_deficiency_cat1_exposed_in_2021_among_1_to_4',\n",
       " 'vitamin_a_deficiency_cat2_exposed_in_2021_among_1_to_4',\n",
       " 'vitamin_a_deficiency_cat1_exposed_in_2022_among_1_to_4',\n",
       " 'vitamin_a_deficiency_cat2_exposed_in_2022_among_1_to_4',\n",
       " 'vitamin_a_deficiency_cat1_exposed_in_2023_among_1_to_4',\n",
       " 'vitamin_a_deficiency_cat2_exposed_in_2023_among_1_to_4',\n",
       " 'supplemented_days_in_2017',\n",
       " 'supplemented_days_in_2018',\n",
       " 'supplemented_days_in_2019',\n",
       " 'supplemented_days_in_2020',\n",
       " 'supplemented_days_in_2021',\n",
       " 'supplemented_days_in_2022',\n",
       " 'supplemented_days_in_2023',\n",
       " 'supplemented_days_in_2024',\n",
       " 'measles_prevalent_cases_at_sim_end',\n",
       " 'diarrheal_diseases_prevalent_cases_at_sim_end',\n",
       " 'lower_respiratory_infections_prevalent_cases_at_sim_end',\n",
       " 'susceptible_to_measles_event_count',\n",
       " 'measles_event_count',\n",
       " 'recovered_from_measles_event_count',\n",
       " 'susceptible_to_diarrheal_diseases_event_count',\n",
       " 'diarrheal_diseases_event_count',\n",
       " 'susceptible_to_lower_respiratory_infections_event_count',\n",
       " 'lower_respiratory_infections_event_count',\n",
       " 'input_draw',\n",
       " 'random_seed',\n",
       " 'person_time_in_2017',\n",
       " 'person_time_in_2018',\n",
       " 'person_time_in_2019',\n",
       " 'person_time_in_2020',\n",
       " 'person_time_in_2021',\n",
       " 'person_time_in_2022',\n",
       " 'person_time_in_2023',\n",
       " 'person_time_in_2024',\n",
       " 'ylls_due_to_measles_in_2017',\n",
       " 'ylls_due_to_diarrheal_diseases_in_2017',\n",
       " 'ylls_due_to_lower_respiratory_infections_in_2017',\n",
       " 'ylls_due_to_other_causes_in_2017',\n",
       " 'ylls_due_to_measles_in_2018',\n",
       " 'ylls_due_to_diarrheal_diseases_in_2018',\n",
       " 'ylls_due_to_lower_respiratory_infections_in_2018',\n",
       " 'ylls_due_to_other_causes_in_2018',\n",
       " 'ylls_due_to_measles_in_2019',\n",
       " 'ylls_due_to_diarrheal_diseases_in_2019',\n",
       " 'ylls_due_to_lower_respiratory_infections_in_2019',\n",
       " 'ylls_due_to_other_causes_in_2019',\n",
       " 'ylls_due_to_measles_in_2020',\n",
       " 'ylls_due_to_diarrheal_diseases_in_2020',\n",
       " 'ylls_due_to_lower_respiratory_infections_in_2020',\n",
       " 'ylls_due_to_other_causes_in_2020',\n",
       " 'ylls_due_to_measles_in_2021',\n",
       " 'ylls_due_to_diarrheal_diseases_in_2021',\n",
       " 'ylls_due_to_lower_respiratory_infections_in_2021',\n",
       " 'ylls_due_to_other_causes_in_2021',\n",
       " 'ylls_due_to_measles_in_2022',\n",
       " 'ylls_due_to_diarrheal_diseases_in_2022',\n",
       " 'ylls_due_to_lower_respiratory_infections_in_2022',\n",
       " 'ylls_due_to_other_causes_in_2022',\n",
       " 'ylls_due_to_measles_in_2023',\n",
       " 'ylls_due_to_diarrheal_diseases_in_2023',\n",
       " 'ylls_due_to_lower_respiratory_infections_in_2023',\n",
       " 'ylls_due_to_other_causes_in_2023',\n",
       " 'ylls_due_to_diarrheal_diseases_in_2024',\n",
       " 'ylls_due_to_lower_respiratory_infections_in_2024',\n",
       " 'ylls_due_to_other_causes_in_2024',\n",
       " 'years_of_life_lost',\n",
       " 'years_lived_with_disability',\n",
       " 'ylds_due_to_measles',\n",
       " 'ylds_due_to_diarrheal_diseases',\n",
       " 'ylds_due_to_lower_respiratory_infections',\n",
       " 'simulation_run_time',\n",
       " 'target_coverage',\n",
       " 'vitamin_a_supplementation']"
      ]
     },
     "execution_count": 84,
     "metadata": {},
     "output_type": "execute_result"
    }
   ],
   "source": [
    "dfb = dfb.iloc[:, :]\n",
    "list(dfb.columns)"
   ]
  },
  {
   "cell_type": "code",
   "execution_count": 85,
   "metadata": {},
   "outputs": [
    {
     "name": "stdout",
     "output_type": "stream",
     "text": [
      "Exposure in 2017 is 0.2856631132833362\n",
      "Exposure in 2018 is 0.2838724057572137\n",
      "Exposure in 2019 is 0.2826006768793537\n",
      "Exposure in 2020 is 0.2813527727708254\n",
      "Exposure in 2021 is 0.2807500685260093\n",
      "Exposure in 2022 is 0.28066269841789926\n",
      "Exposure in 2023 is 0.2805373886501592\n"
     ]
    }
   ],
   "source": [
    "dfb['exposure_2017'] = dfb.vitamin_a_deficiency_cat1_exposed_in_2017_among_1_to_4/(dfb.vitamin_a_deficiency_cat1_exposed_in_2017_among_1_to_4 + dfb.vitamin_a_deficiency_cat2_exposed_in_2017_among_1_to_4)\n",
    "print(\"Exposure in 2017 is \" + str(dfb.exposure_2017.mean()))\n",
    "dfb['exposure_2018'] = dfb.vitamin_a_deficiency_cat1_exposed_in_2018_among_1_to_4/(dfb.vitamin_a_deficiency_cat1_exposed_in_2018_among_1_to_4 + dfb.vitamin_a_deficiency_cat2_exposed_in_2018_among_1_to_4)\n",
    "print(\"Exposure in 2018 is \" + str(dfb.exposure_2018.mean()))\n",
    "dfb['exposure_2019'] = dfb.vitamin_a_deficiency_cat1_exposed_in_2019_among_1_to_4/(dfb.vitamin_a_deficiency_cat1_exposed_in_2019_among_1_to_4 + dfb.vitamin_a_deficiency_cat2_exposed_in_2019_among_1_to_4)\n",
    "print(\"Exposure in 2019 is \" + str(dfb.exposure_2019.mean()))\n",
    "dfb['exposure_2020'] = dfb.vitamin_a_deficiency_cat1_exposed_in_2020_among_1_to_4/(dfb.vitamin_a_deficiency_cat1_exposed_in_2020_among_1_to_4 + dfb.vitamin_a_deficiency_cat2_exposed_in_2020_among_1_to_4)\n",
    "print(\"Exposure in 2020 is \" + str(dfb.exposure_2020.mean()))\n",
    "dfb['exposure_2021'] = dfb.vitamin_a_deficiency_cat1_exposed_in_2021_among_1_to_4/(dfb.vitamin_a_deficiency_cat1_exposed_in_2021_among_1_to_4 + dfb.vitamin_a_deficiency_cat2_exposed_in_2021_among_1_to_4)\n",
    "print(\"Exposure in 2021 is \" + str(dfb.exposure_2021.mean()))\n",
    "dfb['exposure_2022'] = dfb.vitamin_a_deficiency_cat1_exposed_in_2022_among_1_to_4/(dfb.vitamin_a_deficiency_cat1_exposed_in_2022_among_1_to_4 + dfb.vitamin_a_deficiency_cat2_exposed_in_2022_among_1_to_4)\n",
    "print(\"Exposure in 2022 is \" + str(dfb.exposure_2022.mean()))\n",
    "dfb['exposure_2023'] = dfb.vitamin_a_deficiency_cat1_exposed_in_2023_among_1_to_4/(dfb.vitamin_a_deficiency_cat1_exposed_in_2023_among_1_to_4 + dfb.vitamin_a_deficiency_cat2_exposed_in_2023_among_1_to_4)\n",
    "print(\"Exposure in 2023 is \" + str(dfb.exposure_2023.mean()))\n",
    "exposure_Burkina_Faso = [dfb.exposure_2017.mean(), dfb.exposure_2018.mean(), dfb.exposure_2019.mean(), dfb.exposure_2020.mean(), \n",
    "                  dfb.exposure_2021.mean(), dfb.exposure_2022.mean(), dfb.exposure_2023.mean()]"
   ]
  },
  {
   "cell_type": "code",
   "execution_count": 86,
   "metadata": {},
   "outputs": [],
   "source": [
    "py_17 = dfb.person_time_in_2017.mean()\n",
    "py_18 = dfb.person_time_in_2018.mean()\n",
    "py_19 = dfb.person_time_in_2019.mean()\n",
    "py_20 = dfb.person_time_in_2020.mean()\n",
    "py_21 = dfb.person_time_in_2021.mean()\n",
    "py_22 = dfb.person_time_in_2022.mean()\n",
    "py_23 = dfb.person_time_in_2023.mean()"
   ]
  },
  {
   "cell_type": "code",
   "execution_count": 87,
   "metadata": {},
   "outputs": [],
   "source": [
    "dfb['yll_measles_per_py_17'] = dfb.ylls_due_to_measles_in_2017 / py_17\n",
    "dfb['yll_diarrhea_per_py_17'] = dfb.ylls_due_to_diarrheal_diseases_in_2017 / py_17\n",
    "dfb['yll_lri_per_py_17'] = dfb.ylls_due_to_lower_respiratory_infections_in_2017 / py_17\n",
    "dfb['yll_per_py_17'] = dfb.yll_measles_per_py_17 + dfb.yll_diarrhea_per_py_17 + dfb.yll_lri_per_py_17\n",
    "\n",
    "dfb['yld_measles_per_py_17'] = dfb.ylds_due_to_measles / py_17\n",
    "dfb['yld_diarrhea_per_py_17'] = dfb.ylds_due_to_diarrheal_diseases / py_17\n",
    "dfb['yld_lri_per_py_17'] = dfb.ylds_due_to_lower_respiratory_infections / py_17\n",
    "dfb['yld_per_py_17'] = dfb.yld_measles_per_py_17 + dfb.yld_diarrhea_per_py_17 + dfb.yld_lri_per_py_17\n",
    "\n",
    "dfb['daly_measles_per_py_17'] = dfb.yll_measles_per_py_17 + dfb.yld_measles_per_py_17\n",
    "dfb['daly_diarrhea_per_py_17'] = dfb.yll_diarrhea_per_py_17 + dfb.yld_diarrhea_per_py_17\n",
    "dfb['daly_lri_per_py_17'] = dfb.yll_lri_per_py_17 + dfb.yld_lri_per_py_17\n",
    "dfb['daly_per_py_17'] = dfb.daly_measles_per_py_17 + dfb.daly_diarrhea_per_py_17 + dfb.daly_lri_per_py_17"
   ]
  },
  {
   "cell_type": "code",
   "execution_count": 88,
   "metadata": {},
   "outputs": [],
   "source": [
    "dfb['yll_measles_per_py_18'] = dfb.ylls_due_to_measles_in_2018 / py_18\n",
    "dfb['yll_diarrhea_per_py_18'] = dfb.ylls_due_to_diarrheal_diseases_in_2018 / py_18\n",
    "dfb['yll_lri_per_py_18'] = dfb.ylls_due_to_lower_respiratory_infections_in_2018 / py_18\n",
    "dfb['yll_per_py_18'] = dfb.yll_measles_per_py_18 + dfb.yll_diarrhea_per_py_18 + dfb.yll_lri_per_py_18\n",
    "\n",
    "dfb['yld_measles_per_py_18'] = dfb.ylds_due_to_measles / py_18\n",
    "dfb['yld_diarrhea_per_py_18'] = dfb.ylds_due_to_diarrheal_diseases / py_18\n",
    "dfb['yld_lri_per_py_18'] = dfb.ylds_due_to_lower_respiratory_infections / py_18\n",
    "dfb['yld_per_py_18'] = dfb.yld_measles_per_py_18 + dfb.yld_diarrhea_per_py_18 + dfb.yld_lri_per_py_18\n",
    "\n",
    "dfb['daly_measles_per_py_18'] = dfb.yll_measles_per_py_18 + dfb.yld_measles_per_py_18\n",
    "dfb['daly_diarrhea_per_py_18'] = dfb.yll_diarrhea_per_py_18 + dfb.yld_diarrhea_per_py_18\n",
    "dfb['daly_lri_per_py_18'] = dfb.yll_lri_per_py_18 + dfb.yld_lri_per_py_18\n",
    "dfb['daly_per_py_18'] = dfb.daly_measles_per_py_18 + dfb.daly_diarrhea_per_py_18 + dfb.daly_lri_per_py_18"
   ]
  },
  {
   "cell_type": "code",
   "execution_count": 89,
   "metadata": {},
   "outputs": [],
   "source": [
    "dfb['yll_measles_per_py_19'] = dfb.ylls_due_to_measles_in_2019 / py_19\n",
    "dfb['yll_diarrhea_per_py_19'] = dfb.ylls_due_to_diarrheal_diseases_in_2019 / py_19\n",
    "dfb['yll_lri_per_py_19'] = dfb.ylls_due_to_lower_respiratory_infections_in_2019 / py_19\n",
    "dfb['yll_per_py_19'] = dfb.yll_measles_per_py_19 + dfb.yll_diarrhea_per_py_19 + dfb.yll_lri_per_py_19\n",
    "\n",
    "dfb['yld_measles_per_py_19'] = dfb.ylds_due_to_measles / py_19\n",
    "dfb['yld_diarrhea_per_py_19'] = dfb.ylds_due_to_diarrheal_diseases / py_19\n",
    "dfb['yld_lri_per_py_19'] = dfb.ylds_due_to_lower_respiratory_infections / py_19\n",
    "dfb['yld_per_py_19'] = dfb.yld_measles_per_py_19 + dfb.yld_diarrhea_per_py_19 + dfb.yld_lri_per_py_19\n",
    "\n",
    "dfb['daly_measles_per_py_19'] = dfb.yll_measles_per_py_19 + dfb.yld_measles_per_py_19\n",
    "dfb['daly_diarrhea_per_py_19'] = dfb.yll_diarrhea_per_py_19 + dfb.yld_diarrhea_per_py_19\n",
    "dfb['daly_lri_per_py_19'] = dfb.yll_lri_per_py_19 + dfb.yld_lri_per_py_19\n",
    "dfb['daly_per_py_19'] = dfb.daly_measles_per_py_19 + dfb.daly_diarrhea_per_py_19 + dfb.daly_lri_per_py_19"
   ]
  },
  {
   "cell_type": "code",
   "execution_count": 90,
   "metadata": {},
   "outputs": [],
   "source": [
    "dfb['yll_measles_per_py_20'] = dfb.ylls_due_to_measles_in_2020 / py_20\n",
    "dfb['yll_diarrhea_per_py_20'] = dfb.ylls_due_to_diarrheal_diseases_in_2020 / py_20\n",
    "dfb['yll_lri_per_py_20'] = dfb.ylls_due_to_lower_respiratory_infections_in_2020 / py_20\n",
    "dfb['yll_per_py_20'] = dfb.yll_measles_per_py_20 + dfb.yll_diarrhea_per_py_20 + dfb.yll_lri_per_py_20\n",
    "\n",
    "dfb['yld_measles_per_py_20'] = dfb.ylds_due_to_measles / py_20\n",
    "dfb['yld_diarrhea_per_py_20'] = dfb.ylds_due_to_diarrheal_diseases / py_20\n",
    "dfb['yld_lri_per_py_20'] = dfb.ylds_due_to_lower_respiratory_infections / py_20\n",
    "dfb['yld_per_py_20'] = dfb.yld_measles_per_py_20 + dfb.yld_diarrhea_per_py_20 + dfb.yld_lri_per_py_20\n",
    "\n",
    "dfb['daly_measles_per_py_20'] = dfb.yll_measles_per_py_20 + dfb.yld_measles_per_py_20\n",
    "dfb['daly_diarrhea_per_py_20'] = dfb.yll_diarrhea_per_py_20 + dfb.yld_diarrhea_per_py_20\n",
    "dfb['daly_lri_per_py_20'] = dfb.yll_lri_per_py_20 + dfb.yld_lri_per_py_20\n",
    "dfb['daly_per_py_20'] = dfb.daly_measles_per_py_20 + dfb.daly_diarrhea_per_py_20 + dfb.daly_lri_per_py_20"
   ]
  },
  {
   "cell_type": "code",
   "execution_count": 91,
   "metadata": {},
   "outputs": [],
   "source": [
    "dfb['yll_measles_per_py_21'] = dfb.ylls_due_to_measles_in_2021 / py_21\n",
    "dfb['yll_diarrhea_per_py_21'] = dfb.ylls_due_to_diarrheal_diseases_in_2021 / py_21\n",
    "dfb['yll_lri_per_py_21'] = dfb.ylls_due_to_lower_respiratory_infections_in_2021 / py_21\n",
    "dfb['yll_per_py_21'] = dfb.yll_measles_per_py_21 + dfb.yll_diarrhea_per_py_21 + dfb.yll_lri_per_py_21\n",
    "\n",
    "dfb['yld_measles_per_py_21'] = dfb.ylds_due_to_measles / py_21\n",
    "dfb['yld_diarrhea_per_py_21'] = dfb.ylds_due_to_diarrheal_diseases / py_21\n",
    "dfb['yld_lri_per_py_21'] = dfb.ylds_due_to_lower_respiratory_infections / py_21\n",
    "dfb['yld_per_py_21'] = dfb.yld_measles_per_py_21 + dfb.yld_diarrhea_per_py_21 + dfb.yld_lri_per_py_21\n",
    "\n",
    "dfb['daly_measles_per_py_21'] = dfb.yll_measles_per_py_21 + dfb.yld_measles_per_py_21\n",
    "dfb['daly_diarrhea_per_py_21'] = dfb.yll_diarrhea_per_py_21 + dfb.yld_diarrhea_per_py_21\n",
    "dfb['daly_lri_per_py_21'] = dfb.yll_lri_per_py_21 + dfb.yld_lri_per_py_21\n",
    "dfb['daly_per_py_21'] = dfb.daly_measles_per_py_21 + dfb.daly_diarrhea_per_py_21 + dfb.daly_lri_per_py_21"
   ]
  },
  {
   "cell_type": "code",
   "execution_count": 92,
   "metadata": {},
   "outputs": [],
   "source": [
    "dfb['yll_measles_per_py_22'] = dfb.ylls_due_to_measles_in_2022 / py_22\n",
    "dfb['yll_diarrhea_per_py_22'] = dfb.ylls_due_to_diarrheal_diseases_in_2022 / py_22\n",
    "dfb['yll_lri_per_py_22'] = dfb.ylls_due_to_lower_respiratory_infections_in_2022 / py_22\n",
    "dfb['yll_per_py_22'] = dfb.yll_measles_per_py_22 + dfb.yll_diarrhea_per_py_22 + dfb.yll_lri_per_py_22\n",
    "\n",
    "dfb['yld_measles_per_py_22'] = dfb.ylds_due_to_measles / py_22\n",
    "dfb['yld_diarrhea_per_py_22'] = dfb.ylds_due_to_diarrheal_diseases / py_22\n",
    "dfb['yld_lri_per_py_22'] = dfb.ylds_due_to_lower_respiratory_infections / py_22\n",
    "dfb['yld_per_py_22'] = dfb.yld_measles_per_py_22 + dfb.yld_diarrhea_per_py_22 + dfb.yld_lri_per_py_22\n",
    "\n",
    "dfb['daly_measles_per_py_22'] = dfb.yll_measles_per_py_22 + dfb.yld_measles_per_py_22\n",
    "dfb['daly_diarrhea_per_py_22'] = dfb.yll_diarrhea_per_py_22 + dfb.yld_diarrhea_per_py_22\n",
    "dfb['daly_lri_per_py_22'] = dfb.yll_lri_per_py_22 + dfb.yld_lri_per_py_22\n",
    "dfb['daly_per_py_22'] = dfb.daly_measles_per_py_22 + dfb.daly_diarrhea_per_py_22 + dfb.daly_lri_per_py_22"
   ]
  },
  {
   "cell_type": "code",
   "execution_count": 93,
   "metadata": {},
   "outputs": [],
   "source": [
    "dfb['yll_measles_per_py_23'] = dfb.ylls_due_to_measles_in_2023 / py_23\n",
    "dfb['yll_diarrhea_per_py_23'] = dfb.ylls_due_to_diarrheal_diseases_in_2023 / py_23\n",
    "dfb['yll_lri_per_py_23'] = dfb.ylls_due_to_lower_respiratory_infections_in_2023 / py_23\n",
    "dfb['yll_per_py_23'] = dfb.yll_measles_per_py_23 + dfb.yll_diarrhea_per_py_23 + dfb.yll_lri_per_py_23\n",
    "\n",
    "dfb['yld_measles_per_py_23'] = dfb.ylds_due_to_measles / py_23\n",
    "dfb['yld_diarrhea_per_py_23'] = dfb.ylds_due_to_diarrheal_diseases / py_23\n",
    "dfb['yld_lri_per_py_23'] = dfb.ylds_due_to_lower_respiratory_infections / py_23\n",
    "dfb['yld_per_py_23'] = dfb.yld_measles_per_py_23 + dfb.yld_diarrhea_per_py_23 + dfb.yld_lri_per_py_23\n",
    "\n",
    "dfb['daly_measles_per_py_23'] = dfb.yll_measles_per_py_23 + dfb.yld_measles_per_py_23\n",
    "dfb['daly_diarrhea_per_py_23'] = dfb.yll_diarrhea_per_py_23 + dfb.yld_diarrhea_per_py_23\n",
    "dfb['daly_lri_per_py_23'] = dfb.yll_lri_per_py_23 + dfb.yld_lri_per_py_23\n",
    "dfb['daly_per_py_23'] = dfb.daly_measles_per_py_23 + dfb.daly_diarrhea_per_py_23 + dfb.daly_lri_per_py_23"
   ]
  },
  {
   "cell_type": "code",
   "execution_count": 94,
   "metadata": {},
   "outputs": [
    {
     "name": "stdout",
     "output_type": "stream",
     "text": [
      "Overall DALY rate in 2017: 1.4846910699396973\n",
      "Rate of DALYs from measles in 2017: 0.05182885098776801\n",
      "Rate of DALYs from diarrheal diseases in 2017: 0.7486474954429447\n",
      "Rate of DALYs from lower respiratory infections in 2017: 0.6842147235089853\n"
     ]
    }
   ],
   "source": [
    "print(\"Overall DALY rate in 2017: \" + str(dfb.daly_per_py_17.mean()))\n",
    "print(\"Rate of DALYs from measles in 2017: \" + str(dfb.daly_measles_per_py_17.mean()))\n",
    "print(\"Rate of DALYs from diarrheal diseases in 2017: \" + str(dfb.daly_diarrhea_per_py_17.mean()))\n",
    "print(\"Rate of DALYs from lower respiratory infections in 2017: \" + str(dfb.daly_lri_per_py_17.mean()))"
   ]
  },
  {
   "cell_type": "code",
   "execution_count": 95,
   "metadata": {},
   "outputs": [
    {
     "name": "stdout",
     "output_type": "stream",
     "text": [
      "Overall DALY rate in 2018: 1.5813484155642394\n",
      "Rate of DALYs from measles in 2018: 0.056807788298720886\n",
      "Rate of DALYs from diarrheal diseases in 2018: 0.7869083082888528\n",
      "Rate of DALYs from lower respiratory infections in 2018: 0.7376323189766658\n"
     ]
    }
   ],
   "source": [
    "print(\"Overall DALY rate in 2018: \" + str(dfb.daly_per_py_18.mean()))\n",
    "print(\"Rate of DALYs from measles in 2018: \" + str(dfb.daly_measles_per_py_18.mean()))\n",
    "print(\"Rate of DALYs from diarrheal diseases in 2018: \" + str(dfb.daly_diarrhea_per_py_18.mean()))\n",
    "print(\"Rate of DALYs from lower respiratory infections in 2018: \" + str(dfb.daly_lri_per_py_18.mean()))"
   ]
  },
  {
   "cell_type": "code",
   "execution_count": 96,
   "metadata": {},
   "outputs": [
    {
     "name": "stdout",
     "output_type": "stream",
     "text": [
      "Overall DALY rate in 2019: 1.566388694121645\n",
      "Rate of DALYs from measles in 2019: 0.054713629154746035\n",
      "Rate of DALYs from diarrheal diseases in 2019: 0.7801307461303422\n",
      "Rate of DALYs from lower respiratory infections in 2019: 0.7315443188365566\n"
     ]
    }
   ],
   "source": [
    "print(\"Overall DALY rate in 2019: \" + str(dfb.daly_per_py_19.mean()))\n",
    "print(\"Rate of DALYs from measles in 2019: \" + str(dfb.daly_measles_per_py_19.mean()))\n",
    "print(\"Rate of DALYs from diarrheal diseases in 2019: \" + str(dfb.daly_diarrhea_per_py_19.mean()))\n",
    "print(\"Rate of DALYs from lower respiratory infections in 2019: \" + str(dfb.daly_lri_per_py_19.mean()))"
   ]
  },
  {
   "cell_type": "code",
   "execution_count": 97,
   "metadata": {},
   "outputs": [
    {
     "name": "stdout",
     "output_type": "stream",
     "text": [
      "Overall DALY rate in 2020: 1.5795357482845716\n",
      "Rate of DALYs from measles in 2020: 0.055342147545898\n",
      "Rate of DALYs from diarrheal diseases in 2020: 0.7919310118172078\n",
      "Rate of DALYs from lower respiratory infections in 2020: 0.7322625889214659\n"
     ]
    }
   ],
   "source": [
    "print(\"Overall DALY rate in 2020: \" + str(dfb.daly_per_py_20.mean()))\n",
    "print(\"Rate of DALYs from measles in 2020: \" + str(dfb.daly_measles_per_py_20.mean()))\n",
    "print(\"Rate of DALYs from diarrheal diseases in 2020: \" + str(dfb.daly_diarrhea_per_py_20.mean()))\n",
    "print(\"Rate of DALYs from lower respiratory infections in 2020: \" + str(dfb.daly_lri_per_py_20.mean()))"
   ]
  },
  {
   "cell_type": "code",
   "execution_count": 98,
   "metadata": {},
   "outputs": [
    {
     "name": "stdout",
     "output_type": "stream",
     "text": [
      "Overall DALY rate in 2021: 1.5526982134192786\n",
      "Rate of DALYs from measles in 2021: 0.047760424682663186\n",
      "Rate of DALYs from diarrheal diseases in 2021: 0.7815924059096505\n",
      "Rate of DALYs from lower respiratory infections in 2021: 0.7233453828269646\n"
     ]
    }
   ],
   "source": [
    "print(\"Overall DALY rate in 2021: \" + str(dfb.daly_per_py_21.mean()))\n",
    "print(\"Rate of DALYs from measles in 2021: \" + str(dfb.daly_measles_per_py_21.mean()))\n",
    "print(\"Rate of DALYs from diarrheal diseases in 2021: \" + str(dfb.daly_diarrhea_per_py_21.mean()))\n",
    "print(\"Rate of DALYs from lower respiratory infections in 2021: \" + str(dfb.daly_lri_per_py_21.mean()))"
   ]
  },
  {
   "cell_type": "code",
   "execution_count": 99,
   "metadata": {},
   "outputs": [
    {
     "name": "stdout",
     "output_type": "stream",
     "text": [
      "Overall DALY rate in 2022: 1.6911791079568779\n",
      "Rate of DALYs from measles in 2022: 0.05382484357332459\n",
      "Rate of DALYs from diarrheal diseases in 2022: 0.8408620609788134\n",
      "Rate of DALYs from lower respiratory infections in 2022: 0.7964922034047397\n"
     ]
    }
   ],
   "source": [
    "print(\"Overall DALY rate in 2022: \" + str(dfb.daly_per_py_22.mean()))\n",
    "print(\"Rate of DALYs from measles in 2022: \" + str(dfb.daly_measles_per_py_22.mean()))\n",
    "print(\"Rate of DALYs from diarrheal diseases in 2022: \" + str(dfb.daly_diarrhea_per_py_22.mean()))\n",
    "print(\"Rate of DALYs from lower respiratory infections in 2022: \" + str(dfb.daly_lri_per_py_22.mean()))"
   ]
  },
  {
   "cell_type": "code",
   "execution_count": 100,
   "metadata": {},
   "outputs": [
    {
     "name": "stdout",
     "output_type": "stream",
     "text": [
      "Overall DALY rate in 2023: 1.5512071326760433\n",
      "Rate of DALYs from measles in 2023: 0.050257795185247395\n",
      "Rate of DALYs from diarrheal diseases in 2023: 0.7599840658020497\n",
      "Rate of DALYs from lower respiratory infections in 2023: 0.7409652716887457\n"
     ]
    }
   ],
   "source": [
    "print(\"Overall DALY rate in 2023: \" + str(dfb.daly_per_py_23.mean()))\n",
    "print(\"Rate of DALYs from measles in 2023: \" + str(dfb.daly_measles_per_py_23.mean()))\n",
    "print(\"Rate of DALYs from diarrheal diseases in 2023: \" + str(dfb.daly_diarrhea_per_py_23.mean()))\n",
    "print(\"Rate of DALYs from lower respiratory infections in 2023: \" + str(dfb.daly_lri_per_py_23.mean()))"
   ]
  },
  {
   "cell_type": "code",
   "execution_count": 101,
   "metadata": {
    "scrolled": true
   },
   "outputs": [
    {
     "name": "stdout",
     "output_type": "stream",
     "text": [
      "DALYs averted per 100,000 person-years in 2019: 0.0\n",
      "DALYs averted per 100,000 person-years in 2020: -4.440892098500626e-11\n",
      "DALYs averted per 100,000 person-years in 2021: 0.0\n",
      "DALYs averted per 100,000 person-years in 2022: 0.0\n",
      "DALYs averted per 100,000 person-years in 2023: 0.0\n"
     ]
    }
   ],
   "source": [
    "df['daly_averted_per_py_19'] = (dfb.daly_per_py_19.mean() - df.daly_per_py_19.mean())\n",
    "df['daly_averted_per_py_20'] = (dfb.daly_per_py_20.mean() - df.daly_per_py_20.mean())\n",
    "df['daly_averted_per_py_21'] = (dfb.daly_per_py_21.mean() - df.daly_per_py_21.mean())\n",
    "df['daly_averted_per_py_22'] = (dfb.daly_per_py_22.mean() - df.daly_per_py_22.mean())\n",
    "df['daly_averted_per_py_23'] = (dfb.daly_per_py_23.mean() - df.daly_per_py_23.mean())\n",
    "\n",
    "print(\"DALYs averted per 100,000 person-years in 2019: \" + str(df.daly_averted_per_py_19.mean() * 100000))\n",
    "print(\"DALYs averted per 100,000 person-years in 2020: \" + str(df.daly_averted_per_py_20.mean() * 100000))\n",
    "print(\"DALYs averted per 100,000 person-years in 2021: \" + str(df.daly_averted_per_py_21.mean() * 100000))\n",
    "print(\"DALYs averted per 100,000 person-years in 2022: \" + str(df.daly_averted_per_py_22.mean() * 100000))\n",
    "print(\"DALYs averted per 100,000 person-years in 2023: \" + str(df.daly_averted_per_py_23.mean() * 100000))\n",
    "averted_Burkina_Faso = np.array([df.daly_averted_per_py_19.mean() * 100000, df.daly_averted_per_py_20.mean() * 100000, \n",
    "                  df.daly_averted_per_py_21.mean() * 100000, df.daly_averted_per_py_22.mean() * 100000, \n",
    "                  df.daly_averted_per_py_23.mean() * 100000])"
   ]
  },
  {
   "cell_type": "code",
   "execution_count": 102,
   "metadata": {},
   "outputs": [
    {
     "name": "stdout",
     "output_type": "stream",
     "text": [
      "[0.88 0.88 0.88 0.88 0.88 0.88 0.88]\n",
      "[3497326.2 4099451.4 4701516.6 5304106.2 5903139.3 7072176.9 7153182.9]\n"
     ]
    }
   ],
   "source": [
    "coverages = np.append(np.array([0.88]), np.linspace(0.88, 0.88, 6))\n",
    "print(coverages)\n",
    "\n",
    "supplemented = np.array([df.supplemented_days_in_2017.mean(), df.supplemented_days_in_2018.mean(), df.supplemented_days_in_2019.mean(),\n",
    "                         df.supplemented_days_in_2020.mean(), df.supplemented_days_in_2021.mean(), df.supplemented_days_in_2022.mean(),\n",
    "                         df.supplemented_days_in_2023.mean()])\n",
    "\n",
    "print(supplemented)"
   ]
  },
  {
   "cell_type": "code",
   "execution_count": 103,
   "metadata": {},
   "outputs": [
    {
     "data": {
      "text/plain": [
       "39843829.872"
      ]
     },
     "execution_count": 103,
     "metadata": {},
     "output_type": "execute_result"
    }
   ],
   "source": [
    "unit_cost = 0.60 # UC Davis Paper\n",
    "\n",
    "doses = coverages * supplemented * 2\n",
    "total_baseline_cost = unit_cost * doses.sum()\n",
    "\n",
    "total_baseline_cost"
   ]
  },
  {
   "cell_type": "code",
   "execution_count": 104,
   "metadata": {},
   "outputs": [
    {
     "data": {
      "text/plain": [
       "-3.1477060072501108e+16"
      ]
     },
     "execution_count": 104,
     "metadata": {},
     "output_type": "execute_result"
    }
   ],
   "source": [
    "icer = (total_intervention_cost - total_baseline_cost) / averted_Burkina_Faso.sum()\n",
    "\n",
    "icer"
   ]
  },
  {
   "cell_type": "code",
   "execution_count": null,
   "metadata": {},
   "outputs": [],
   "source": []
  },
  {
   "cell_type": "code",
   "execution_count": null,
   "metadata": {},
   "outputs": [],
   "source": []
  },
  {
   "cell_type": "code",
   "execution_count": null,
   "metadata": {},
   "outputs": [],
   "source": []
  },
  {
   "cell_type": "code",
   "execution_count": 46,
   "metadata": {
    "scrolled": false
   },
   "outputs": [
    {
     "name": "stdout",
     "output_type": "stream",
     "text": [
      "DALYs per 100,000 person-years in 2017: 148469.1069939698\n",
      "DALYs per 100,000 person-years in 2018: 158134.8415564239\n",
      "DALYs per 100,000 person-years in 2019: 156638.8694121645\n",
      "DALYs per 100,000 person-years in 2020: 157953.5748284572\n",
      "DALYs per 100,000 person-years in 2021: 155269.82134192786\n",
      "DALYs per 100,000 person-years in 2022: 169117.91079568779\n",
      "DALYs per 100,000 person-years in 2023: 155120.71326760433\n"
     ]
    }
   ],
   "source": [
    "print(\"DALYs per 100,000 person-years in 2017: \" + str((df.daly_per_py_17.mean() * 100000)))\n",
    "print(\"DALYs per 100,000 person-years in 2018: \" + str((df.daly_per_py_18.mean() * 100000)))\n",
    "print(\"DALYs per 100,000 person-years in 2019: \" + str((df.daly_per_py_19.mean() * 100000)))\n",
    "print(\"DALYs per 100,000 person-years in 2020: \" + str((df.daly_per_py_20.mean() * 100000)))\n",
    "print(\"DALYs per 100,000 person-years in 2021: \" + str((df.daly_per_py_21.mean() * 100000)))\n",
    "print(\"DALYs per 100,000 person-years in 2022: \" + str((df.daly_per_py_22.mean() * 100000)))\n",
    "print(\"DALYs per 100,000 person-years in 2023: \" + str((df.daly_per_py_23.mean() * 100000)))\n",
    "dalys_Burkina_Faso = [df.daly_per_py_17.mean() * 100000, df.daly_per_py_18.mean() * 100000, df.daly_per_py_19.mean() * 100000, \n",
    "               df.daly_per_py_20.mean() * 100000, df.daly_per_py_21.mean() * 100000, df.daly_per_py_22.mean() * 100000, \n",
    "               df.daly_per_py_23.mean() * 100000]"
   ]
  },
  {
   "cell_type": "code",
   "execution_count": null,
   "metadata": {},
   "outputs": [],
   "source": []
  },
  {
   "cell_type": "code",
   "execution_count": null,
   "metadata": {},
   "outputs": [],
   "source": []
  }
 ],
 "metadata": {
  "kernelspec": {
   "display_name": "Python 3",
   "language": "python",
   "name": "python3"
  },
  "language_info": {
   "codemirror_mode": {
    "name": "ipython",
    "version": 3
   },
   "file_extension": ".py",
   "mimetype": "text/x-python",
   "name": "python",
   "nbconvert_exporter": "python",
   "pygments_lexer": "ipython3",
   "version": "3.6.8"
  }
 },
 "nbformat": 4,
 "nbformat_minor": 2
}
